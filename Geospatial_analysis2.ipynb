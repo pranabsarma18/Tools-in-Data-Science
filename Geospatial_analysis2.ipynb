{
  "nbformat": 4,
  "nbformat_minor": 0,
  "metadata": {
    "colab": {
      "provenance": [],
      "collapsed_sections": [],
      "include_colab_link": true
    },
    "kernelspec": {
      "name": "python3",
      "display_name": "Python 3"
    },
    "language_info": {
      "name": "python"
    }
  },
  "cells": [
    {
      "cell_type": "markdown",
      "metadata": {
        "id": "view-in-github",
        "colab_type": "text"
      },
      "source": [
        "<a href=\"https://colab.research.google.com/github/pranabsarma18/Tools-in-Data-Science/blob/main/Geospatial_analysis2.ipynb\" target=\"_parent\"><img src=\"https://colab.research.google.com/assets/colab-badge.svg\" alt=\"Open In Colab\"/></a>"
      ]
    },
    {
      "cell_type": "markdown",
      "metadata": {
        "id": "RjIUH6AqfChd"
      },
      "source": [
        "Geospatial Analysis:"
      ]
    },
    {
      "cell_type": "code",
      "metadata": {
        "id": "TnL5zgcIgTki"
      },
      "source": [
        "import pandas as pd\n",
        "import numpy as np\n",
        "import folium\n",
        "import geopy.distance\n",
        "from geopy.geocoders import Nominatim"
      ],
      "execution_count": 1,
      "outputs": []
    },
    {
      "cell_type": "code",
      "source": [
        "#activate nominatim geocoder\n",
        "locator = Nominatim(user_agent=\"myGeocoder\")\n",
        "#type any address text\n",
        "location1 = locator.geocode(\"Agartala\")\n",
        "location2 = locator.geocode(\"Belgaum\")"
      ],
      "metadata": {
        "id": "pt3WAWQWDKps"
      },
      "execution_count": 2,
      "outputs": []
    },
    {
      "cell_type": "code",
      "source": [
        "agartala_cord = (location1.latitude, location1.longitude)\n",
        "belgaum_cord = (location2.latitude, location2.longitude)"
      ],
      "metadata": {
        "id": "p-6dEc-ODhqG"
      },
      "execution_count": 3,
      "outputs": []
    },
    {
      "cell_type": "code",
      "source": [
        "agartala_cord"
      ],
      "metadata": {
        "colab": {
          "base_uri": "https://localhost:8080/"
        },
        "id": "LhDnk3dDELIC",
        "outputId": "eac428dd-e32d-4b39-a6a3-c644df7edfd6"
      },
      "execution_count": 4,
      "outputs": [
        {
          "output_type": "execute_result",
          "data": {
            "text/plain": [
              "(23.8312377, 91.2823821)"
            ]
          },
          "metadata": {},
          "execution_count": 4
        }
      ]
    },
    {
      "cell_type": "markdown",
      "metadata": {
        "id": "Jg_MRCjNwFNb"
      },
      "source": [
        "**Compute the distance**"
      ]
    },
    {
      "cell_type": "code",
      "source": [
        "geopy.distance.distance(agartala_cord, belgaum_cord).km"
      ],
      "metadata": {
        "colab": {
          "base_uri": "https://localhost:8080/"
        },
        "id": "RGIuCZ2vES3r",
        "outputId": "fa7fe095-b21d-4228-804c-059d92d28c7d"
      },
      "execution_count": 5,
      "outputs": [
        {
          "output_type": "execute_result",
          "data": {
            "text/plain": [
              "1964.0727199334935"
            ]
          },
          "metadata": {},
          "execution_count": 5
        }
      ]
    }
  ]
}