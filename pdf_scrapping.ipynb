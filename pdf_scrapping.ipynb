{
  "nbformat": 4,
  "nbformat_minor": 0,
  "metadata": {
    "colab": {
      "provenance": [],
      "authorship_tag": "ABX9TyO677vl4rL5UF3emfWmpjgL",
      "include_colab_link": true
    },
    "kernelspec": {
      "name": "python3",
      "display_name": "Python 3"
    },
    "language_info": {
      "name": "python"
    }
  },
  "cells": [
    {
      "cell_type": "markdown",
      "metadata": {
        "id": "view-in-github",
        "colab_type": "text"
      },
      "source": [
        "<a href=\"https://colab.research.google.com/github/pranabsarma18/Tools-in-Data-Science/blob/main/pdf_scrapping.ipynb\" target=\"_parent\"><img src=\"https://colab.research.google.com/assets/colab-badge.svg\" alt=\"Open In Colab\"/></a>"
      ]
    },
    {
      "cell_type": "code",
      "execution_count": 1,
      "metadata": {
        "id": "Nwn5KnAUrvPD"
      },
      "outputs": [],
      "source": [
        "import requests\n",
        "from bs4 import BeautifulSoup\n",
        "from urllib.parse import urljoin\n",
        "import os\n",
        " \n",
        "url = 'https://www.premierleague.com/publications'\n",
        "folder_location = r'/content/example'\n",
        "if not os.path.exists(folder_location):\n",
        "    os.mkdir(folder_location)\n",
        " \n",
        "response = requests.get(url)\n",
        "soup = BeautifulSoup(response.text, \"html.parser\")     \n",
        " \n",
        "for link in soup.select(\"a[href$='.pdf']\"):\n",
        "    filename = os.path.join(folder_location, link['href'].split('/')[-1])\n",
        "    with open(filename, 'wb') as f:\n",
        "        f.write(requests.get(urljoin(url,link['href'])).content)"
      ]
    },
    {
      "cell_type": "code",
      "source": [
        "import os"
      ],
      "metadata": {
        "id": "jdb03ok1slPz"
      },
      "execution_count": 3,
      "outputs": []
    },
    {
      "cell_type": "code",
      "source": [
        "len(os.listdir(\"/content/example\"))"
      ],
      "metadata": {
        "colab": {
          "base_uri": "https://localhost:8080/"
        },
        "id": "Ka7IZ9SbshC7",
        "outputId": "00151f45-af11-4076-dfc1-11643f485469"
      },
      "execution_count": 6,
      "outputs": [
        {
          "output_type": "execute_result",
          "data": {
            "text/plain": [
              "64"
            ]
          },
          "metadata": {},
          "execution_count": 6
        }
      ]
    }
  ]
}