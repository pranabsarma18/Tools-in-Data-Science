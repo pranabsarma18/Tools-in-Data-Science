{
  "nbformat": 4,
  "nbformat_minor": 0,
  "metadata": {
    "colab": {
      "provenance": [],
      "include_colab_link": true
    },
    "kernelspec": {
      "name": "python3",
      "display_name": "Python 3"
    },
    "language_info": {
      "name": "python"
    }
  },
  "cells": [
    {
      "cell_type": "markdown",
      "metadata": {
        "id": "view-in-github",
        "colab_type": "text"
      },
      "source": [
        "<a href=\"https://colab.research.google.com/github/pranabsarma18/Tools-in-Data-Science/blob/main/Clustering.ipynb\" target=\"_parent\"><img src=\"https://colab.research.google.com/assets/colab-badge.svg\" alt=\"Open In Colab\"/></a>"
      ]
    },
    {
      "cell_type": "markdown",
      "metadata": {
        "id": "LqLQs4n3OCpU"
      },
      "source": [
        "**Demo on k-Means clustering and cluster analysis**"
      ]
    },
    {
      "cell_type": "code",
      "metadata": {
        "id": "w5mr9dsIJeHj"
      },
      "source": [
        "import pandas as pd\n",
        "import numpy as np\n",
        "\n",
        "from sklearn.cluster import KMeans"
      ],
      "execution_count": 1,
      "outputs": []
    },
    {
      "cell_type": "code",
      "metadata": {
        "id": "5U09h3L4JwIP"
      },
      "source": [
        "stockData = pd.read_csv(\"/content/TDS_Week_5_Dataset_2 - Sheet1.csv\")    "
      ],
      "execution_count": 2,
      "outputs": []
    },
    {
      "cell_type": "code",
      "metadata": {
        "colab": {
          "base_uri": "https://localhost:8080/",
          "height": 206
        },
        "id": "FZtnluDGJxwv",
        "outputId": "c7752011-9478-4fb3-889f-663c3c19ba17"
      },
      "source": [
        "stockData.head()"
      ],
      "execution_count": 13,
      "outputs": [
        {
          "output_type": "execute_result",
          "data": {
            "text/plain": [
              "   record number     Price  Market Cap  Free Float Market Cap %    6m ADV  \\\n",
              "0              0  0.001319    0.001970                 0.826221  0.021519   \n",
              "1              1  0.000769    0.000579                 0.441647  0.003081   \n",
              "2              2  0.000132    0.000316                 0.655003  0.000778   \n",
              "3              3  0.000824    0.007208                 0.000533  0.000252   \n",
              "4              4  0.000596    0.000358                 0.805526  0.003378   \n",
              "\n",
              "      RoE %    RoCE %  EBIT Margin %       EPS  PAT %  Stock Return %  cluster  \n",
              "0  0.000000  0.476845       0.038117  0.000701    0.0        0.268651        0  \n",
              "1  0.000000  0.232072       0.000000  0.025832    0.0        0.190937        0  \n",
              "2  0.065568  0.000000       0.000000  0.001083    0.0        0.122265        0  \n",
              "3  0.408417  0.416031       0.000000  0.000918    0.0        0.100503        0  \n",
              "4  0.116626  0.474160       0.067420  0.029651    0.0        0.050376        0  "
            ],
            "text/html": [
              "\n",
              "  <div id=\"df-257cf087-838d-4a50-936b-d46e1b48c6ee\">\n",
              "    <div class=\"colab-df-container\">\n",
              "      <div>\n",
              "<style scoped>\n",
              "    .dataframe tbody tr th:only-of-type {\n",
              "        vertical-align: middle;\n",
              "    }\n",
              "\n",
              "    .dataframe tbody tr th {\n",
              "        vertical-align: top;\n",
              "    }\n",
              "\n",
              "    .dataframe thead th {\n",
              "        text-align: right;\n",
              "    }\n",
              "</style>\n",
              "<table border=\"1\" class=\"dataframe\">\n",
              "  <thead>\n",
              "    <tr style=\"text-align: right;\">\n",
              "      <th></th>\n",
              "      <th>record number</th>\n",
              "      <th>Price</th>\n",
              "      <th>Market Cap</th>\n",
              "      <th>Free Float Market Cap %</th>\n",
              "      <th>6m ADV</th>\n",
              "      <th>RoE %</th>\n",
              "      <th>RoCE %</th>\n",
              "      <th>EBIT Margin %</th>\n",
              "      <th>EPS</th>\n",
              "      <th>PAT %</th>\n",
              "      <th>Stock Return %</th>\n",
              "      <th>cluster</th>\n",
              "    </tr>\n",
              "  </thead>\n",
              "  <tbody>\n",
              "    <tr>\n",
              "      <th>0</th>\n",
              "      <td>0</td>\n",
              "      <td>0.001319</td>\n",
              "      <td>0.001970</td>\n",
              "      <td>0.826221</td>\n",
              "      <td>0.021519</td>\n",
              "      <td>0.000000</td>\n",
              "      <td>0.476845</td>\n",
              "      <td>0.038117</td>\n",
              "      <td>0.000701</td>\n",
              "      <td>0.0</td>\n",
              "      <td>0.268651</td>\n",
              "      <td>0</td>\n",
              "    </tr>\n",
              "    <tr>\n",
              "      <th>1</th>\n",
              "      <td>1</td>\n",
              "      <td>0.000769</td>\n",
              "      <td>0.000579</td>\n",
              "      <td>0.441647</td>\n",
              "      <td>0.003081</td>\n",
              "      <td>0.000000</td>\n",
              "      <td>0.232072</td>\n",
              "      <td>0.000000</td>\n",
              "      <td>0.025832</td>\n",
              "      <td>0.0</td>\n",
              "      <td>0.190937</td>\n",
              "      <td>0</td>\n",
              "    </tr>\n",
              "    <tr>\n",
              "      <th>2</th>\n",
              "      <td>2</td>\n",
              "      <td>0.000132</td>\n",
              "      <td>0.000316</td>\n",
              "      <td>0.655003</td>\n",
              "      <td>0.000778</td>\n",
              "      <td>0.065568</td>\n",
              "      <td>0.000000</td>\n",
              "      <td>0.000000</td>\n",
              "      <td>0.001083</td>\n",
              "      <td>0.0</td>\n",
              "      <td>0.122265</td>\n",
              "      <td>0</td>\n",
              "    </tr>\n",
              "    <tr>\n",
              "      <th>3</th>\n",
              "      <td>3</td>\n",
              "      <td>0.000824</td>\n",
              "      <td>0.007208</td>\n",
              "      <td>0.000533</td>\n",
              "      <td>0.000252</td>\n",
              "      <td>0.408417</td>\n",
              "      <td>0.416031</td>\n",
              "      <td>0.000000</td>\n",
              "      <td>0.000918</td>\n",
              "      <td>0.0</td>\n",
              "      <td>0.100503</td>\n",
              "      <td>0</td>\n",
              "    </tr>\n",
              "    <tr>\n",
              "      <th>4</th>\n",
              "      <td>4</td>\n",
              "      <td>0.000596</td>\n",
              "      <td>0.000358</td>\n",
              "      <td>0.805526</td>\n",
              "      <td>0.003378</td>\n",
              "      <td>0.116626</td>\n",
              "      <td>0.474160</td>\n",
              "      <td>0.067420</td>\n",
              "      <td>0.029651</td>\n",
              "      <td>0.0</td>\n",
              "      <td>0.050376</td>\n",
              "      <td>0</td>\n",
              "    </tr>\n",
              "  </tbody>\n",
              "</table>\n",
              "</div>\n",
              "      <button class=\"colab-df-convert\" onclick=\"convertToInteractive('df-257cf087-838d-4a50-936b-d46e1b48c6ee')\"\n",
              "              title=\"Convert this dataframe to an interactive table.\"\n",
              "              style=\"display:none;\">\n",
              "        \n",
              "  <svg xmlns=\"http://www.w3.org/2000/svg\" height=\"24px\"viewBox=\"0 0 24 24\"\n",
              "       width=\"24px\">\n",
              "    <path d=\"M0 0h24v24H0V0z\" fill=\"none\"/>\n",
              "    <path d=\"M18.56 5.44l.94 2.06.94-2.06 2.06-.94-2.06-.94-.94-2.06-.94 2.06-2.06.94zm-11 1L8.5 8.5l.94-2.06 2.06-.94-2.06-.94L8.5 2.5l-.94 2.06-2.06.94zm10 10l.94 2.06.94-2.06 2.06-.94-2.06-.94-.94-2.06-.94 2.06-2.06.94z\"/><path d=\"M17.41 7.96l-1.37-1.37c-.4-.4-.92-.59-1.43-.59-.52 0-1.04.2-1.43.59L10.3 9.45l-7.72 7.72c-.78.78-.78 2.05 0 2.83L4 21.41c.39.39.9.59 1.41.59.51 0 1.02-.2 1.41-.59l7.78-7.78 2.81-2.81c.8-.78.8-2.07 0-2.86zM5.41 20L4 18.59l7.72-7.72 1.47 1.35L5.41 20z\"/>\n",
              "  </svg>\n",
              "      </button>\n",
              "      \n",
              "  <style>\n",
              "    .colab-df-container {\n",
              "      display:flex;\n",
              "      flex-wrap:wrap;\n",
              "      gap: 12px;\n",
              "    }\n",
              "\n",
              "    .colab-df-convert {\n",
              "      background-color: #E8F0FE;\n",
              "      border: none;\n",
              "      border-radius: 50%;\n",
              "      cursor: pointer;\n",
              "      display: none;\n",
              "      fill: #1967D2;\n",
              "      height: 32px;\n",
              "      padding: 0 0 0 0;\n",
              "      width: 32px;\n",
              "    }\n",
              "\n",
              "    .colab-df-convert:hover {\n",
              "      background-color: #E2EBFA;\n",
              "      box-shadow: 0px 1px 2px rgba(60, 64, 67, 0.3), 0px 1px 3px 1px rgba(60, 64, 67, 0.15);\n",
              "      fill: #174EA6;\n",
              "    }\n",
              "\n",
              "    [theme=dark] .colab-df-convert {\n",
              "      background-color: #3B4455;\n",
              "      fill: #D2E3FC;\n",
              "    }\n",
              "\n",
              "    [theme=dark] .colab-df-convert:hover {\n",
              "      background-color: #434B5C;\n",
              "      box-shadow: 0px 1px 3px 1px rgba(0, 0, 0, 0.15);\n",
              "      filter: drop-shadow(0px 1px 2px rgba(0, 0, 0, 0.3));\n",
              "      fill: #FFFFFF;\n",
              "    }\n",
              "  </style>\n",
              "\n",
              "      <script>\n",
              "        const buttonEl =\n",
              "          document.querySelector('#df-257cf087-838d-4a50-936b-d46e1b48c6ee button.colab-df-convert');\n",
              "        buttonEl.style.display =\n",
              "          google.colab.kernel.accessAllowed ? 'block' : 'none';\n",
              "\n",
              "        async function convertToInteractive(key) {\n",
              "          const element = document.querySelector('#df-257cf087-838d-4a50-936b-d46e1b48c6ee');\n",
              "          const dataTable =\n",
              "            await google.colab.kernel.invokeFunction('convertToInteractive',\n",
              "                                                     [key], {});\n",
              "          if (!dataTable) return;\n",
              "\n",
              "          const docLinkHtml = 'Like what you see? Visit the ' +\n",
              "            '<a target=\"_blank\" href=https://colab.research.google.com/notebooks/data_table.ipynb>data table notebook</a>'\n",
              "            + ' to learn more about interactive tables.';\n",
              "          element.innerHTML = '';\n",
              "          dataTable['output_type'] = 'display_data';\n",
              "          await google.colab.output.renderOutput(dataTable, element);\n",
              "          const docLink = document.createElement('div');\n",
              "          docLink.innerHTML = docLinkHtml;\n",
              "          element.appendChild(docLink);\n",
              "        }\n",
              "      </script>\n",
              "    </div>\n",
              "  </div>\n",
              "  "
            ]
          },
          "metadata": {},
          "execution_count": 13
        }
      ]
    },
    {
      "cell_type": "code",
      "source": [
        "features = stockData.columns\n",
        "features"
      ],
      "metadata": {
        "colab": {
          "base_uri": "https://localhost:8080/"
        },
        "id": "TMX_8-5IDr6P",
        "outputId": "e80daa79-c345-4179-e61d-7f90966076e1"
      },
      "execution_count": 7,
      "outputs": [
        {
          "output_type": "execute_result",
          "data": {
            "text/plain": [
              "Index(['record number', 'Price', 'Market Cap', 'Free Float Market Cap %',\n",
              "       '6m ADV', 'RoE %', 'RoCE %', 'EBIT Margin %', 'EPS', 'PAT %',\n",
              "       'Stock Return %'],\n",
              "      dtype='object')"
            ]
          },
          "metadata": {},
          "execution_count": 7
        }
      ]
    },
    {
      "cell_type": "code",
      "metadata": {
        "id": "GLrmINDVJ_Eq"
      },
      "source": [
        "import random\n",
        "random.seed(1729)\n",
        "\n",
        "kmeans = KMeans(7)"
      ],
      "execution_count": 6,
      "outputs": []
    },
    {
      "cell_type": "code",
      "metadata": {
        "id": "MBQ_KL97KFKa"
      },
      "source": [
        "clus = kmeans.fit_predict(stockData)"
      ],
      "execution_count": 8,
      "outputs": []
    },
    {
      "cell_type": "code",
      "metadata": {
        "colab": {
          "base_uri": "https://localhost:8080/"
        },
        "id": "PdjJtPV-KJ-w",
        "outputId": "957fd04c-720c-4c25-94f2-d984bcd7a0f5"
      },
      "source": [
        "stockData['cluster'] = clus\n",
        "stockData['cluster'].value_counts()"
      ],
      "execution_count": 9,
      "outputs": [
        {
          "output_type": "execute_result",
          "data": {
            "text/plain": [
              "0    176\n",
              "4    176\n",
              "6    176\n",
              "3    176\n",
              "2    174\n",
              "1    174\n",
              "5    173\n",
              "Name: cluster, dtype: int64"
            ]
          },
          "metadata": {},
          "execution_count": 9
        }
      ]
    },
    {
      "cell_type": "code",
      "metadata": {
        "id": "27sWvxqTKOnI"
      },
      "source": [
        "clusterDesc = pd.DataFrame(stockData.groupby('cluster').mean().round(3))\n",
        "clusterDesc.insert(0,'size',stockData['cluster'].value_counts())"
      ],
      "execution_count": 10,
      "outputs": []
    },
    {
      "cell_type": "code",
      "metadata": {
        "colab": {
          "base_uri": "https://localhost:8080/",
          "height": 300
        },
        "id": "2DZ8v0hkKQza",
        "outputId": "05a8ea73-7a29-42f9-a5a4-407026c0e10e"
      },
      "source": [
        "clusterDesc"
      ],
      "execution_count": 11,
      "outputs": [
        {
          "output_type": "execute_result",
          "data": {
            "text/plain": [
              "         size  record number  Price  Market Cap  Free Float Market Cap %  \\\n",
              "cluster                                                                    \n",
              "0         176           87.5  0.002       0.004                    0.425   \n",
              "1         174          785.5  0.017       0.020                    0.361   \n",
              "2         174          438.5  0.006       0.006                    0.406   \n",
              "3         176         1136.5  0.018       0.040                    0.378   \n",
              "4         176          263.5  0.004       0.006                    0.367   \n",
              "5         173          612.0  0.007       0.009                    0.392   \n",
              "6         176          960.5  0.016       0.021                    0.376   \n",
              "\n",
              "         6m ADV  RoE %  RoCE %  EBIT Margin %    EPS  PAT %  Stock Return %  \n",
              "cluster                                                                      \n",
              "0         0.014  0.315   0.484          0.446  0.037  0.381           0.127  \n",
              "1         0.040  0.585   0.596          0.550  0.009  0.532           0.149  \n",
              "2         0.016  0.544   0.556          0.525  0.039  0.510           0.154  \n",
              "3         0.055  0.602   0.625          0.619  0.005  0.615           0.134  \n",
              "4         0.017  0.500   0.531          0.518  0.039  0.500           0.156  \n",
              "5         0.020  0.564   0.572          0.540  0.022  0.520           0.151  \n",
              "6         0.033  0.595   0.609          0.571  0.006  0.549           0.145  "
            ],
            "text/html": [
              "\n",
              "  <div id=\"df-4620a5e8-b6b6-416c-ad84-a137a4c4508b\">\n",
              "    <div class=\"colab-df-container\">\n",
              "      <div>\n",
              "<style scoped>\n",
              "    .dataframe tbody tr th:only-of-type {\n",
              "        vertical-align: middle;\n",
              "    }\n",
              "\n",
              "    .dataframe tbody tr th {\n",
              "        vertical-align: top;\n",
              "    }\n",
              "\n",
              "    .dataframe thead th {\n",
              "        text-align: right;\n",
              "    }\n",
              "</style>\n",
              "<table border=\"1\" class=\"dataframe\">\n",
              "  <thead>\n",
              "    <tr style=\"text-align: right;\">\n",
              "      <th></th>\n",
              "      <th>size</th>\n",
              "      <th>record number</th>\n",
              "      <th>Price</th>\n",
              "      <th>Market Cap</th>\n",
              "      <th>Free Float Market Cap %</th>\n",
              "      <th>6m ADV</th>\n",
              "      <th>RoE %</th>\n",
              "      <th>RoCE %</th>\n",
              "      <th>EBIT Margin %</th>\n",
              "      <th>EPS</th>\n",
              "      <th>PAT %</th>\n",
              "      <th>Stock Return %</th>\n",
              "    </tr>\n",
              "    <tr>\n",
              "      <th>cluster</th>\n",
              "      <th></th>\n",
              "      <th></th>\n",
              "      <th></th>\n",
              "      <th></th>\n",
              "      <th></th>\n",
              "      <th></th>\n",
              "      <th></th>\n",
              "      <th></th>\n",
              "      <th></th>\n",
              "      <th></th>\n",
              "      <th></th>\n",
              "      <th></th>\n",
              "    </tr>\n",
              "  </thead>\n",
              "  <tbody>\n",
              "    <tr>\n",
              "      <th>0</th>\n",
              "      <td>176</td>\n",
              "      <td>87.5</td>\n",
              "      <td>0.002</td>\n",
              "      <td>0.004</td>\n",
              "      <td>0.425</td>\n",
              "      <td>0.014</td>\n",
              "      <td>0.315</td>\n",
              "      <td>0.484</td>\n",
              "      <td>0.446</td>\n",
              "      <td>0.037</td>\n",
              "      <td>0.381</td>\n",
              "      <td>0.127</td>\n",
              "    </tr>\n",
              "    <tr>\n",
              "      <th>1</th>\n",
              "      <td>174</td>\n",
              "      <td>785.5</td>\n",
              "      <td>0.017</td>\n",
              "      <td>0.020</td>\n",
              "      <td>0.361</td>\n",
              "      <td>0.040</td>\n",
              "      <td>0.585</td>\n",
              "      <td>0.596</td>\n",
              "      <td>0.550</td>\n",
              "      <td>0.009</td>\n",
              "      <td>0.532</td>\n",
              "      <td>0.149</td>\n",
              "    </tr>\n",
              "    <tr>\n",
              "      <th>2</th>\n",
              "      <td>174</td>\n",
              "      <td>438.5</td>\n",
              "      <td>0.006</td>\n",
              "      <td>0.006</td>\n",
              "      <td>0.406</td>\n",
              "      <td>0.016</td>\n",
              "      <td>0.544</td>\n",
              "      <td>0.556</td>\n",
              "      <td>0.525</td>\n",
              "      <td>0.039</td>\n",
              "      <td>0.510</td>\n",
              "      <td>0.154</td>\n",
              "    </tr>\n",
              "    <tr>\n",
              "      <th>3</th>\n",
              "      <td>176</td>\n",
              "      <td>1136.5</td>\n",
              "      <td>0.018</td>\n",
              "      <td>0.040</td>\n",
              "      <td>0.378</td>\n",
              "      <td>0.055</td>\n",
              "      <td>0.602</td>\n",
              "      <td>0.625</td>\n",
              "      <td>0.619</td>\n",
              "      <td>0.005</td>\n",
              "      <td>0.615</td>\n",
              "      <td>0.134</td>\n",
              "    </tr>\n",
              "    <tr>\n",
              "      <th>4</th>\n",
              "      <td>176</td>\n",
              "      <td>263.5</td>\n",
              "      <td>0.004</td>\n",
              "      <td>0.006</td>\n",
              "      <td>0.367</td>\n",
              "      <td>0.017</td>\n",
              "      <td>0.500</td>\n",
              "      <td>0.531</td>\n",
              "      <td>0.518</td>\n",
              "      <td>0.039</td>\n",
              "      <td>0.500</td>\n",
              "      <td>0.156</td>\n",
              "    </tr>\n",
              "    <tr>\n",
              "      <th>5</th>\n",
              "      <td>173</td>\n",
              "      <td>612.0</td>\n",
              "      <td>0.007</td>\n",
              "      <td>0.009</td>\n",
              "      <td>0.392</td>\n",
              "      <td>0.020</td>\n",
              "      <td>0.564</td>\n",
              "      <td>0.572</td>\n",
              "      <td>0.540</td>\n",
              "      <td>0.022</td>\n",
              "      <td>0.520</td>\n",
              "      <td>0.151</td>\n",
              "    </tr>\n",
              "    <tr>\n",
              "      <th>6</th>\n",
              "      <td>176</td>\n",
              "      <td>960.5</td>\n",
              "      <td>0.016</td>\n",
              "      <td>0.021</td>\n",
              "      <td>0.376</td>\n",
              "      <td>0.033</td>\n",
              "      <td>0.595</td>\n",
              "      <td>0.609</td>\n",
              "      <td>0.571</td>\n",
              "      <td>0.006</td>\n",
              "      <td>0.549</td>\n",
              "      <td>0.145</td>\n",
              "    </tr>\n",
              "  </tbody>\n",
              "</table>\n",
              "</div>\n",
              "      <button class=\"colab-df-convert\" onclick=\"convertToInteractive('df-4620a5e8-b6b6-416c-ad84-a137a4c4508b')\"\n",
              "              title=\"Convert this dataframe to an interactive table.\"\n",
              "              style=\"display:none;\">\n",
              "        \n",
              "  <svg xmlns=\"http://www.w3.org/2000/svg\" height=\"24px\"viewBox=\"0 0 24 24\"\n",
              "       width=\"24px\">\n",
              "    <path d=\"M0 0h24v24H0V0z\" fill=\"none\"/>\n",
              "    <path d=\"M18.56 5.44l.94 2.06.94-2.06 2.06-.94-2.06-.94-.94-2.06-.94 2.06-2.06.94zm-11 1L8.5 8.5l.94-2.06 2.06-.94-2.06-.94L8.5 2.5l-.94 2.06-2.06.94zm10 10l.94 2.06.94-2.06 2.06-.94-2.06-.94-.94-2.06-.94 2.06-2.06.94z\"/><path d=\"M17.41 7.96l-1.37-1.37c-.4-.4-.92-.59-1.43-.59-.52 0-1.04.2-1.43.59L10.3 9.45l-7.72 7.72c-.78.78-.78 2.05 0 2.83L4 21.41c.39.39.9.59 1.41.59.51 0 1.02-.2 1.41-.59l7.78-7.78 2.81-2.81c.8-.78.8-2.07 0-2.86zM5.41 20L4 18.59l7.72-7.72 1.47 1.35L5.41 20z\"/>\n",
              "  </svg>\n",
              "      </button>\n",
              "      \n",
              "  <style>\n",
              "    .colab-df-container {\n",
              "      display:flex;\n",
              "      flex-wrap:wrap;\n",
              "      gap: 12px;\n",
              "    }\n",
              "\n",
              "    .colab-df-convert {\n",
              "      background-color: #E8F0FE;\n",
              "      border: none;\n",
              "      border-radius: 50%;\n",
              "      cursor: pointer;\n",
              "      display: none;\n",
              "      fill: #1967D2;\n",
              "      height: 32px;\n",
              "      padding: 0 0 0 0;\n",
              "      width: 32px;\n",
              "    }\n",
              "\n",
              "    .colab-df-convert:hover {\n",
              "      background-color: #E2EBFA;\n",
              "      box-shadow: 0px 1px 2px rgba(60, 64, 67, 0.3), 0px 1px 3px 1px rgba(60, 64, 67, 0.15);\n",
              "      fill: #174EA6;\n",
              "    }\n",
              "\n",
              "    [theme=dark] .colab-df-convert {\n",
              "      background-color: #3B4455;\n",
              "      fill: #D2E3FC;\n",
              "    }\n",
              "\n",
              "    [theme=dark] .colab-df-convert:hover {\n",
              "      background-color: #434B5C;\n",
              "      box-shadow: 0px 1px 3px 1px rgba(0, 0, 0, 0.15);\n",
              "      filter: drop-shadow(0px 1px 2px rgba(0, 0, 0, 0.3));\n",
              "      fill: #FFFFFF;\n",
              "    }\n",
              "  </style>\n",
              "\n",
              "      <script>\n",
              "        const buttonEl =\n",
              "          document.querySelector('#df-4620a5e8-b6b6-416c-ad84-a137a4c4508b button.colab-df-convert');\n",
              "        buttonEl.style.display =\n",
              "          google.colab.kernel.accessAllowed ? 'block' : 'none';\n",
              "\n",
              "        async function convertToInteractive(key) {\n",
              "          const element = document.querySelector('#df-4620a5e8-b6b6-416c-ad84-a137a4c4508b');\n",
              "          const dataTable =\n",
              "            await google.colab.kernel.invokeFunction('convertToInteractive',\n",
              "                                                     [key], {});\n",
              "          if (!dataTable) return;\n",
              "\n",
              "          const docLinkHtml = 'Like what you see? Visit the ' +\n",
              "            '<a target=\"_blank\" href=https://colab.research.google.com/notebooks/data_table.ipynb>data table notebook</a>'\n",
              "            + ' to learn more about interactive tables.';\n",
              "          element.innerHTML = '';\n",
              "          dataTable['output_type'] = 'display_data';\n",
              "          await google.colab.output.renderOutput(dataTable, element);\n",
              "          const docLink = document.createElement('div');\n",
              "          docLink.innerHTML = docLinkHtml;\n",
              "          element.appendChild(docLink);\n",
              "        }\n",
              "      </script>\n",
              "    </div>\n",
              "  </div>\n",
              "  "
            ]
          },
          "metadata": {},
          "execution_count": 11
        }
      ]
    },
    {
      "cell_type": "code",
      "metadata": {
        "id": "SGWgHtCZKUci",
        "colab": {
          "base_uri": "https://localhost:8080/"
        },
        "outputId": "d5a11be2-4c24-4456-eed4-2407523f4718"
      },
      "source": [
        "print(stockData[stockData[\"record number\"] == 750].cluster)\n",
        "print(stockData[stockData[\"record number\"] == 737].cluster)"
      ],
      "execution_count": 17,
      "outputs": [
        {
          "output_type": "stream",
          "name": "stdout",
          "text": [
            "750    1\n",
            "Name: cluster, dtype: int32\n",
            "737    1\n",
            "Name: cluster, dtype: int32\n"
          ]
        }
      ]
    },
    {
      "cell_type": "code",
      "source": [
        "print(stockData[stockData[\"record number\"] == 386].cluster)\n",
        "print(stockData[stockData[\"record number\"] == 337].cluster)"
      ],
      "metadata": {
        "colab": {
          "base_uri": "https://localhost:8080/"
        },
        "id": "RsWc2PVvHeyq",
        "outputId": "e3039939-7813-4700-ade0-8185f1db418a"
      },
      "execution_count": 18,
      "outputs": [
        {
          "output_type": "stream",
          "name": "stdout",
          "text": [
            "386    2\n",
            "Name: cluster, dtype: int32\n",
            "337    4\n",
            "Name: cluster, dtype: int32\n"
          ]
        }
      ]
    },
    {
      "cell_type": "code",
      "source": [
        "print(stockData[stockData[\"record number\"] == 1161].cluster)\n",
        "print(stockData[stockData[\"record number\"] == 727].cluster)"
      ],
      "metadata": {
        "colab": {
          "base_uri": "https://localhost:8080/"
        },
        "id": "V5twb-vpHmfQ",
        "outputId": "dbf8298d-11a1-41c7-eb7f-c322a4c43efe"
      },
      "execution_count": 19,
      "outputs": [
        {
          "output_type": "stream",
          "name": "stdout",
          "text": [
            "1161    3\n",
            "Name: cluster, dtype: int32\n",
            "727    1\n",
            "Name: cluster, dtype: int32\n"
          ]
        }
      ]
    },
    {
      "cell_type": "code",
      "source": [
        "print(stockData[stockData[\"record number\"] == 583].cluster)\n",
        "print(stockData[stockData[\"record number\"] == 950].cluster)"
      ],
      "metadata": {
        "colab": {
          "base_uri": "https://localhost:8080/"
        },
        "id": "AGJQoNQRHuB6",
        "outputId": "61832183-0eb0-405a-c70f-25dcf26ac91b"
      },
      "execution_count": 20,
      "outputs": [
        {
          "output_type": "stream",
          "name": "stdout",
          "text": [
            "583    5\n",
            "Name: cluster, dtype: int32\n",
            "950    6\n",
            "Name: cluster, dtype: int32\n"
          ]
        }
      ]
    }
  ]
}