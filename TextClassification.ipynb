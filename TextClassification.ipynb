{
  "nbformat": 4,
  "nbformat_minor": 0,
  "metadata": {
    "colab": {
      "provenance": [],
      "collapsed_sections": [],
      "include_colab_link": true
    },
    "kernelspec": {
      "name": "python3",
      "display_name": "Python 3"
    },
    "language_info": {
      "name": "python"
    }
  },
  "cells": [
    {
      "cell_type": "markdown",
      "metadata": {
        "id": "view-in-github",
        "colab_type": "text"
      },
      "source": [
        "<a href=\"https://colab.research.google.com/github/pranabsarma18/Tools-in-Data-Science/blob/main/TextClassification.ipynb\" target=\"_parent\"><img src=\"https://colab.research.google.com/assets/colab-badge.svg\" alt=\"Open In Colab\"/></a>"
      ]
    },
    {
      "cell_type": "code",
      "metadata": {
        "id": "oc5gO9sbDBf-"
      },
      "source": [
        "import pandas as pd\n",
        "import numpy as np\n",
        "import spacy\n",
        "from textblob import TextBlob"
      ],
      "execution_count": 1,
      "outputs": []
    },
    {
      "cell_type": "code",
      "source": [
        "text1 =  \" as much as i love to be hopeful, i reckon the chances are minimal =P i`m never gonna get my cake and stuff\""
      ],
      "metadata": {
        "id": "ePBJdEOr3MqT"
      },
      "execution_count": 8,
      "outputs": []
    },
    {
      "cell_type": "code",
      "metadata": {
        "id": "FC5ASg7iHE5I",
        "colab": {
          "base_uri": "https://localhost:8080/"
        },
        "outputId": "1db54e39-9342-4636-ecd7-5d5e1a06dc50"
      },
      "source": [
        "TextBlob(text1).sentiment.subjectivity\n",
        "#df['TextBlob_Polarity'] = text.apply(lambda x: TextBlob(x).sentiment.polarity)\n",
        "#df['TextBlob_Subjectivity'] = "
      ],
      "execution_count": 9,
      "outputs": [
        {
          "output_type": "execute_result",
          "data": {
            "text/plain": [
              "0.6"
            ]
          },
          "metadata": {},
          "execution_count": 9
        }
      ]
    },
    {
      "cell_type": "code",
      "source": [
        "text2 = \"i donbt like to peel prawns, i also dont like going shopping, running out of money and crawling round the car looking for more\""
      ],
      "metadata": {
        "id": "3PrIli-79FQT"
      },
      "execution_count": 12,
      "outputs": []
    },
    {
      "cell_type": "code",
      "source": [
        "TextBlob(text2).sentiment.polarity"
      ],
      "metadata": {
        "colab": {
          "base_uri": "https://localhost:8080/"
        },
        "id": "-5ypfomO9TE8",
        "outputId": "9f9218d5-ff13-4ce9-8d72-aeb5aa4862d2"
      },
      "execution_count": 13,
      "outputs": [
        {
          "output_type": "execute_result",
          "data": {
            "text/plain": [
              "0.15"
            ]
          },
          "metadata": {},
          "execution_count": 13
        }
      ]
    },
    {
      "cell_type": "code",
      "source": [
        "text3 = \"gettn ready to take a trip to Jersey my dad`s not doing so good, he needs a new heart~whoeva see`s this please say a prayer for my dad\"\n",
        "polarity3 = TextBlob(text3).sentiment.polarity\n",
        "if polarity3 > 0:\n",
        "  print(\"positive\")\n",
        "else:\n",
        "  print(\"negative\")"
      ],
      "metadata": {
        "colab": {
          "base_uri": "https://localhost:8080/"
        },
        "id": "Ad01U9EM-9u_",
        "outputId": "286963a9-6e7e-4e1f-c123-2aca0ddb72fd"
      },
      "execution_count": 14,
      "outputs": [
        {
          "output_type": "stream",
          "name": "stdout",
          "text": [
            "positive\n"
          ]
        }
      ]
    },
    {
      "cell_type": "code",
      "source": [
        "polarity3"
      ],
      "metadata": {
        "colab": {
          "base_uri": "https://localhost:8080/"
        },
        "id": "P79HYgvZ_mek",
        "outputId": "dc1d7375-87b2-4aa4-de34-35a327dedc68"
      },
      "execution_count": 15,
      "outputs": [
        {
          "output_type": "execute_result",
          "data": {
            "text/plain": [
              "0.3454545454545454"
            ]
          },
          "metadata": {},
          "execution_count": 15
        }
      ]
    }
  ]
}